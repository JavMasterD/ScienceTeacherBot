{
  "cells": [
    {
      "cell_type": "markdown",
      "id": "5c8d04d4",
      "metadata": {
        "id": "5c8d04d4"
      },
      "source": [
        "\n",
        "# 👨‍🏫 ScienceTeacherBot by Mr Ahmed Mohammed  \n",
        "معلم علوم ذكي داخل جروبات تليجرام باستخدام Mistral  \n",
        "---  \n",
        "🔧 هذا الدفتر يقوم بتشغيل البوت مباشرة من المتصفح.\n",
        "\n"
      ]
    },
    {
      "cell_type": "code",
      "source": [
        "# ✅ تثبيت مكتبات البوت\n",
        "!pip install -q pyrogram tgcrypto python-telegram-bot pillow schedule python-docx pdfplumber\n"
      ],
      "metadata": {
        "id": "FQEFsAWysvTz",
        "outputId": "d52e3034-00b6-41b4-92d7-caa199d3a167",
        "colab": {
          "base_uri": "https://localhost:8080/"
        }
      },
      "id": "FQEFsAWysvTz",
      "execution_count": 19,
      "outputs": [
        {
          "output_type": "stream",
          "name": "stdout",
          "text": [
            "  Preparing metadata (setup.py) ... \u001b[?25l\u001b[?25hdone\n",
            "\u001b[2K   \u001b[90m━━━━━━━━━━━━━━━━━━━━━━━━━━━━━━━━━━━━━━━━\u001b[0m \u001b[32m3.6/3.6 MB\u001b[0m \u001b[31m54.6 MB/s\u001b[0m eta \u001b[36m0:00:00\u001b[0m\n",
            "\u001b[2K   \u001b[90m━━━━━━━━━━━━━━━━━━━━━━━━━━━━━━━━━━━━━━━━\u001b[0m \u001b[32m60.7/60.7 kB\u001b[0m \u001b[31m3.2 MB/s\u001b[0m eta \u001b[36m0:00:00\u001b[0m\n",
            "\u001b[?25h  Building wheel for pyaes (setup.py) ... \u001b[?25l\u001b[?25hdone\n"
          ]
        }
      ]
    },
    {
      "cell_type": "code",
      "execution_count": 20,
      "id": "4535a8e7",
      "metadata": {
        "colab": {
          "base_uri": "https://localhost:8080/"
        },
        "id": "4535a8e7",
        "outputId": "2c16b12e-a53c-4622-d8af-a87e3d424c8a"
      },
      "outputs": [
        {
          "output_type": "stream",
          "name": "stdout",
          "text": [
            "Drive already mounted at /content/drive; to attempt to forcibly remount, call drive.mount(\"/content/drive\", force_remount=True).\n",
            "✅ تم تحميل التوكن: 7911739795...\n"
          ]
        }
      ],
      "source": [
        "from google.colab import drive\n",
        "drive.mount('/content/drive')\n",
        "\n",
        "# نسخ ملف التوكن من Google Drive إلى مجلد المشروع\n",
        "!cp /content/drive/MyDrive/config.json config.json\n",
        "\n",
        "# التأكد من تحميل الملف\n",
        "import json\n",
        "with open(\"config.json\", \"r\") as f:\n",
        "    config = json.load(f)\n",
        "\n",
        "print(\"✅ تم تحميل التوكن:\", config[\"bot_token\"][:10] + \"...\")\n"
      ]
    },
    {
      "cell_type": "code",
      "execution_count": 21,
      "id": "19ca8240",
      "metadata": {
        "id": "19ca8240"
      },
      "outputs": [],
      "source": [
        "\n",
        "from pyrogram import Client\n",
        "\n",
        "BOT_TOKEN = config[\"bot_token\"]\n",
        "API_ID = config[\"api_id\"]\n",
        "API_HASH = config[\"api_hash\"]\n",
        "\n",
        "app = Client(\"ScienceTeacherBot\", bot_token=BOT_TOKEN, api_id=API_ID, api_hash=API_HASH)"
      ]
    },
    {
      "cell_type": "code",
      "execution_count": 22,
      "id": "8762d610",
      "metadata": {
        "colab": {
          "base_uri": "https://localhost:8080/"
        },
        "id": "8762d610",
        "outputId": "ece56962-a84e-4a5c-9f55-99495b9720b0"
      },
      "outputs": [
        {
          "output_type": "stream",
          "name": "stdout",
          "text": [
            "📦 جاهز لتشغيل البوت بعد إضافة الكود في bot.py\n"
          ]
        }
      ],
      "source": [
        "\n",
        "# ⏬ تحميل bot.py وبقية الملفات من GitHub (أو يمكنك رفعها يدويًا)\n",
        "# حالياً هذا مجرد مثال - سيتم استبداله لاحقًا عند رفع المشروع إلى GitHub\n",
        "\n",
        "with open(\"bot.py\", \"w\") as f:\n",
        "    f.write(\"# TODO: ضع هنا كود البوت الخاص بك\")\n",
        "\n",
        "print(\"📦 جاهز لتشغيل البوت بعد إضافة الكود في bot.py\")\n"
      ]
    },
    {
      "cell_type": "code",
      "execution_count": 23,
      "id": "b4d863fd",
      "metadata": {
        "colab": {
          "base_uri": "https://localhost:8080/"
        },
        "id": "b4d863fd",
        "outputId": "ecee0e26-64e7-4579-9b59-58afd27af41c"
      },
      "outputs": [
        {
          "output_type": "stream",
          "name": "stdout",
          "text": [
            "🤖 تم تشغيل البوت...\n"
          ]
        }
      ],
      "source": [
        "\n",
        "# ✅ بدء تشغيل البوت\n",
        "import subprocess\n",
        "\n",
        "process = subprocess.Popen([\"python\", \"bot.py\"])\n",
        "print(\"🤖 تم تشغيل البوت...\")\n"
      ]
    }
  ],
  "metadata": {
    "colab": {
      "provenance": []
    },
    "language_info": {
      "name": "python"
    },
    "kernelspec": {
      "name": "python3",
      "display_name": "Python 3"
    }
  },
  "nbformat": 4,
  "nbformat_minor": 5
}