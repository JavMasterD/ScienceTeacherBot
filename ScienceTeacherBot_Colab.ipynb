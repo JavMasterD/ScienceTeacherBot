{
  "cells": [
    {
      "cell_type": "markdown",
      "id": "5c8d04d4",
      "metadata": {
        "id": "5c8d04d4"
      },
      "source": [
        "\n",
        "# 👨‍🏫 ScienceTeacherBot by Mr Ahmed Mohammed  \n",
        "معلم علوم ذكي داخل جروبات تليجرام باستخدام Mistral  \n",
        "---  \n",
        "🔧 هذا الدفتر يقوم بتشغيل البوت مباشرة من المتصفح.\n",
        "\n"
      ]
    },
    {
      "cell_type": "code",
      "execution_count": 12,
      "id": "4535a8e7",
      "metadata": {
        "colab": {
          "base_uri": "https://localhost:8080/"
        },
        "id": "4535a8e7",
        "outputId": "da0d247f-635f-4990-ba70-4e6143d02c26"
      },
      "outputs": [
        {
          "output_type": "stream",
          "name": "stdout",
          "text": [
            "Mounted at /content/drive\n",
            "✅ تم تحميل التوكن: 7911739795...\n"
          ]
        }
      ],
      "source": [
        "from google.colab import drive\n",
        "drive.mount('/content/drive')\n",
        "\n",
        "# نسخ ملف التوكن من Google Drive إلى مجلد المشروع\n",
        "!cp /content/drive/MyDrive/config.json config.json\n",
        "\n",
        "# التأكد من تحميل الملف\n",
        "import json\n",
        "with open(\"config.json\", \"r\") as f:\n",
        "    config = json.load(f)\n",
        "\n",
        "print(\"✅ تم تحميل التوكن:\", config[\"bot_token\"][:10] + \"...\")\n"
      ]
    },
    {
      "cell_type": "code",
      "execution_count": 13,
      "id": "19ca8240",
      "metadata": {
        "colab": {
          "base_uri": "https://localhost:8080/"
        },
        "id": "19ca8240",
        "outputId": "91fa18f2-2bf4-4314-ceac-103a74522e04"
      },
      "outputs": [
        {
          "output_type": "stream",
          "name": "stdout",
          "text": [
            "✅ تم إنشاء ملف config.json بنجاح\n"
          ]
        }
      ],
      "source": [
        "\n",
        "from pyrogram import Client\n",
        "\n",
        "BOT_TOKEN = config[\"bot_token\"]\n",
        "API_ID = config[\"api_id\"]\n",
        "API_HASH = config[\"api_hash\"]\n",
        "\n",
        "app = Client(\"ScienceTeacherBot\", bot_token=BOT_TOKEN, api_id=API_ID, api_hash=API_HASH)"
      ]
    },
    {
      "cell_type": "code",
      "execution_count": 14,
      "id": "5805e65c",
      "metadata": {
        "id": "5805e65c"
      },
      "outputs": [],
      "source": [
        "\n",
        "!pip install -q python-telegram-bot pillow schedule python-docx pdfplumber\n"
      ]
    },
    {
      "cell_type": "code",
      "execution_count": 15,
      "id": "8762d610",
      "metadata": {
        "colab": {
          "base_uri": "https://localhost:8080/"
        },
        "id": "8762d610",
        "outputId": "bbd5d948-049a-44a1-aef3-8c802fc6d5da"
      },
      "outputs": [
        {
          "output_type": "stream",
          "name": "stdout",
          "text": [
            "📦 جاهز لتشغيل البوت بعد إضافة الكود في bot.py\n"
          ]
        }
      ],
      "source": [
        "\n",
        "# ⏬ تحميل bot.py وبقية الملفات من GitHub (أو يمكنك رفعها يدويًا)\n",
        "# حالياً هذا مجرد مثال - سيتم استبداله لاحقًا عند رفع المشروع إلى GitHub\n",
        "\n",
        "with open(\"bot.py\", \"w\") as f:\n",
        "    f.write(\"# TODO: ضع هنا كود البوت الخاص بك\")\n",
        "\n",
        "print(\"📦 جاهز لتشغيل البوت بعد إضافة الكود في bot.py\")\n"
      ]
    },
    {
      "cell_type": "code",
      "execution_count": 16,
      "id": "b4d863fd",
      "metadata": {
        "colab": {
          "base_uri": "https://localhost:8080/"
        },
        "id": "b4d863fd",
        "outputId": "25f07295-9a76-4ed7-bc11-342131ee3434"
      },
      "outputs": [
        {
          "output_type": "stream",
          "name": "stdout",
          "text": [
            "🤖 تم تشغيل البوت...\n"
          ]
        }
      ],
      "source": [
        "\n",
        "# ✅ بدء تشغيل البوت\n",
        "import subprocess\n",
        "\n",
        "process = subprocess.Popen([\"python\", \"bot.py\"])\n",
        "print(\"🤖 تم تشغيل البوت...\")\n"
      ]
    }
  ],
  "metadata": {
    "colab": {
      "provenance": []
    },
    "language_info": {
      "name": "python"
    },
    "kernelspec": {
      "name": "python3",
      "display_name": "Python 3"
    }
  },
  "nbformat": 4,
  "nbformat_minor": 5
}