{
 "cells": [
  {
   "cell_type": "markdown",
   "id": "5c8d04d4",
   "metadata": {},
   "source": [
    "\n",
    "# 👨‍🏫 ScienceTeacherBot by Mr Ahmed Mohammed  \n",
    "معلم علوم ذكي داخل جروبات تليجرام باستخدام Mistral  \n",
    "---  \n",
    "🔧 هذا الدفتر يقوم بتشغيل البوت مباشرة من المتصفح.\n",
    "\n"
   ]
  },
  {
   "cell_type": "code",
   "execution_count": null,
   "id": "4535a8e7",
   "metadata": {},
   "outputs": [],
   "source": [
    "\n",
    "# 🔐 أدخل التوكن ومعرفك الشخصي (user_id)\n",
    "bot_token = \"ضع التوكن هنا بين علامتي تنصيص\"\n",
    "owner_id = 7911739795  # ضع هنا معرف حسابك الشخصي (رقم)\n"
   ]
  },
  {
   "cell_type": "code",
   "execution_count": null,
   "id": "19ca8240",
   "metadata": {},
   "outputs": [],
   "source": [
    "\n",
    "import json\n",
    "\n",
    "config = {\n",
    "    \"bot_token\": bot_token,\n",
    "    \"owner_id\": owner_id\n",
    "}\n",
    "\n",
    "with open(\"config.json\", \"w\") as f:\n",
    "    json.dump(config, f)\n",
    "\n",
    "print(\"✅ تم إنشاء ملف config.json بنجاح\")\n"
   ]
  },
  {
   "cell_type": "code",
   "execution_count": null,
   "id": "5805e65c",
   "metadata": {},
   "outputs": [],
   "source": [
    "\n",
    "!pip install -q python-telegram-bot pillow schedule python-docx pdfplumber\n"
   ]
  },
  {
   "cell_type": "code",
   "execution_count": null,
   "id": "8762d610",
   "metadata": {},
   "outputs": [],
   "source": [
    "\n",
    "# ⏬ تحميل bot.py وبقية الملفات من GitHub (أو يمكنك رفعها يدويًا)\n",
    "# حالياً هذا مجرد مثال - سيتم استبداله لاحقًا عند رفع المشروع إلى GitHub\n",
    "\n",
    "with open(\"bot.py\", \"w\") as f:\n",
    "    f.write(\"# TODO: ضع هنا كود البوت الخاص بك\")\n",
    "\n",
    "print(\"📦 جاهز لتشغيل البوت بعد إضافة الكود في bot.py\")\n"
   ]
  },
  {
   "cell_type": "code",
   "execution_count": null,
   "id": "b4d863fd",
   "metadata": {},
   "outputs": [],
   "source": [
    "\n",
    "# ✅ بدء تشغيل البوت\n",
    "import subprocess\n",
    "\n",
    "process = subprocess.Popen([\"python\", \"bot.py\"])\n",
    "print(\"🤖 تم تشغيل البوت...\")\n"
   ]
  }
 ],
 "metadata": {},
 "nbformat": 4,
 "nbformat_minor": 5
}