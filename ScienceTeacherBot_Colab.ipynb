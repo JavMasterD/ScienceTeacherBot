{
  "cells": [
    {
      "cell_type": "markdown",
      "id": "5c8d04d4",
      "metadata": {
        "id": "5c8d04d4"
      },
      "source": [
        "\n",
        "# 👨‍🏫 ScienceTeacherBot by Mr Ahmed Mohammed  \n",
        "معلم علوم ذكي داخل جروبات تليجرام باستخدام Mistral  \n",
        "---  \n",
        "🔧 هذا الدفتر يقوم بتشغيل البوت مباشرة من المتصفح.\n",
        "\n"
      ]
    },
    {
      "cell_type": "code",
      "execution_count": null,
      "id": "4535a8e7",
      "metadata": {
        "id": "4535a8e7"
      },
      "outputs": [],
      "source": [
        "\n",
        "# 🔐 أدخل التوكن ومعرفك الشخصي (user_id)\n",
        "bot_token = \"7911739795:AAEC8lGGU0TQPyLVNVriFNCLcM6a3RsfaNY\"\n",
        "owner_id = 7911739795  # ضع هنا معرف حسابك الشخصي (رقم)\n"
      ]
    },
    {
      "cell_type": "code",
      "execution_count": null,
      "id": "19ca8240",
      "metadata": {
        "id": "19ca8240"
      },
      "outputs": [],
      "source": [
        "\n",
        "import json\n",
        "\n",
        "config = {\n",
        "    \"bot_token\": bot_token,\n",
        "    \"owner_id\": owner_id\n",
        "}\n",
        "\n",
        "with open(\"config.json\", \"w\") as f:\n",
        "    json.dump(config, f)\n",
        "\n",
        "print(\"✅ تم إنشاء ملف config.json بنجاح\")\n"
      ]
    },
    {
      "cell_type": "code",
      "execution_count": null,
      "id": "5805e65c",
      "metadata": {
        "id": "5805e65c"
      },
      "outputs": [],
      "source": [
        "\n",
        "!pip install -q python-telegram-bot pillow schedule python-docx pdfplumber\n"
      ]
    },
    {
      "cell_type": "code",
      "execution_count": null,
      "id": "8762d610",
      "metadata": {
        "id": "8762d610"
      },
      "outputs": [],
      "source": [
        "\n",
        "# ⏬ تحميل bot.py وبقية الملفات من GitHub (أو يمكنك رفعها يدويًا)\n",
        "# حالياً هذا مجرد مثال - سيتم استبداله لاحقًا عند رفع المشروع إلى GitHub\n",
        "\n",
        "with open(\"bot.py\", \"w\") as f:\n",
        "    f.write(\"# TODO: ضع هنا كود البوت الخاص بك\")\n",
        "\n",
        "print(\"📦 جاهز لتشغيل البوت بعد إضافة الكود في bot.py\")\n"
      ]
    },
    {
      "cell_type": "code",
      "execution_count": null,
      "id": "b4d863fd",
      "metadata": {
        "id": "b4d863fd"
      },
      "outputs": [],
      "source": [
        "\n",
        "# ✅ بدء تشغيل البوت\n",
        "import subprocess\n",
        "\n",
        "process = subprocess.Popen([\"python\", \"bot.py\"])\n",
        "print(\"🤖 تم تشغيل البوت...\")\n"
      ]
    }
  ],
  "metadata": {
    "colab": {
      "provenance": []
    },
    "language_info": {
      "name": "python"
    },
    "kernelspec": {
      "name": "python3",
      "display_name": "Python 3"
    }
  },
  "nbformat": 4,
  "nbformat_minor": 5
}