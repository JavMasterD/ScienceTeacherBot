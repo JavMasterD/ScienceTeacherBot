{
  "cells": [
    {
      "cell_type": "markdown",
      "id": "5c8d04d4",
      "metadata": {
        "id": "5c8d04d4"
      },
      "source": [
        "\n",
        "# 👨‍🏫 ScienceTeacherBot by Mr Ahmed Mohammed  \n",
        "معلم علوم ذكي داخل جروبات تليجرام باستخدام Mistral  \n",
        "---  \n",
        "🔧 هذا الدفتر يقوم بتشغيل البوت مباشرة من المتصفح.\n",
        "\n"
      ]
    },
    {
      "cell_type": "code",
      "source": [
        "# ✅ تثبيت مكتبات البوت\n",
        "!pip install -q pyrogram tgcrypto python-telegram-bot pillow schedule python-docx pdfplumber\n"
      ],
      "metadata": {
        "id": "FQEFsAWysvTz",
        "outputId": "b3338cba-43a1-4b88-b313-705d80924b0c",
        "colab": {
          "base_uri": "https://localhost:8080/"
        }
      },
      "id": "FQEFsAWysvTz",
      "execution_count": 1,
      "outputs": [
        {
          "output_type": "stream",
          "name": "stdout",
          "text": [
            "\u001b[?25l     \u001b[90m━━━━━━━━━━━━━━━━━━━━━━━━━━━━━━━━━━━━━━━━\u001b[0m \u001b[32m0.0/42.8 kB\u001b[0m \u001b[31m?\u001b[0m eta \u001b[36m-:--:--\u001b[0m\r\u001b[2K     \u001b[90m━━━━━━━━━━━━━━━━━━━━━━━━━━━━━━━━━━━━━━━━\u001b[0m \u001b[32m42.8/42.8 kB\u001b[0m \u001b[31m2.1 MB/s\u001b[0m eta \u001b[36m0:00:00\u001b[0m\n",
            "\u001b[?25h  Preparing metadata (setup.py) ... \u001b[?25l\u001b[?25hdone\n",
            "\u001b[2K     \u001b[90m━━━━━━━━━━━━━━━━━━━━━━━━━━━━━━━━━━━━━━━━\u001b[0m \u001b[32m48.2/48.2 kB\u001b[0m \u001b[31m2.8 MB/s\u001b[0m eta \u001b[36m0:00:00\u001b[0m\n",
            "\u001b[2K   \u001b[90m━━━━━━━━━━━━━━━━━━━━━━━━━━━━━━━━━━━━━━━━\u001b[0m \u001b[32m3.6/3.6 MB\u001b[0m \u001b[31m49.9 MB/s\u001b[0m eta \u001b[36m0:00:00\u001b[0m\n",
            "\u001b[2K   \u001b[90m━━━━━━━━━━━━━━━━━━━━━━━━━━━━━━━━━━━━━━━━\u001b[0m \u001b[32m60.7/60.7 kB\u001b[0m \u001b[31m4.3 MB/s\u001b[0m eta \u001b[36m0:00:00\u001b[0m\n",
            "\u001b[2K   \u001b[90m━━━━━━━━━━━━━━━━━━━━━━━━━━━━━━━━━━━━━━━━\u001b[0m \u001b[32m708.7/708.7 kB\u001b[0m \u001b[31m40.7 MB/s\u001b[0m eta \u001b[36m0:00:00\u001b[0m\n",
            "\u001b[2K   \u001b[90m━━━━━━━━━━━━━━━━━━━━━━━━━━━━━━━━━━━━━━━━\u001b[0m \u001b[32m253.0/253.0 kB\u001b[0m \u001b[31m16.7 MB/s\u001b[0m eta \u001b[36m0:00:00\u001b[0m\n",
            "\u001b[2K   \u001b[90m━━━━━━━━━━━━━━━━━━━━━━━━━━━━━━━━━━━━━━━━\u001b[0m \u001b[32m60.0/60.0 kB\u001b[0m \u001b[31m4.4 MB/s\u001b[0m eta \u001b[36m0:00:00\u001b[0m\n",
            "\u001b[2K   \u001b[90m━━━━━━━━━━━━━━━━━━━━━━━━━━━━━━━━━━━━━━━━\u001b[0m \u001b[32m5.6/5.6 MB\u001b[0m \u001b[31m100.9 MB/s\u001b[0m eta \u001b[36m0:00:00\u001b[0m\n",
            "\u001b[2K   \u001b[90m━━━━━━━━━━━━━━━━━━━━━━━━━━━━━━━━━━━━━━━━\u001b[0m \u001b[32m2.9/2.9 MB\u001b[0m \u001b[31m74.3 MB/s\u001b[0m eta \u001b[36m0:00:00\u001b[0m\n",
            "\u001b[?25h  Building wheel for pyaes (setup.py) ... \u001b[?25l\u001b[?25hdone\n"
          ]
        }
      ]
    },
    {
      "cell_type": "code",
      "execution_count": 2,
      "id": "4535a8e7",
      "metadata": {
        "colab": {
          "base_uri": "https://localhost:8080/"
        },
        "id": "4535a8e7",
        "outputId": "a0053da5-044f-4e57-f753-7360bf571f23"
      },
      "outputs": [
        {
          "output_type": "stream",
          "name": "stdout",
          "text": [
            "Mounted at /content/drive\n",
            "✅ تم تحميل التوكن: 7911739795...\n"
          ]
        }
      ],
      "source": [
        "from google.colab import drive\n",
        "drive.mount('/content/drive')\n",
        "\n",
        "# نسخ ملف التوكن من Google Drive إلى مجلد المشروع\n",
        "!cp /content/drive/MyDrive/config.json config.json\n",
        "\n",
        "# التأكد من تحميل الملف\n",
        "import json\n",
        "with open(\"config.json\", \"r\") as f:\n",
        "    config = json.load(f)\n",
        "\n",
        "print(\"✅ تم تحميل التوكن:\", config[\"bot_token\"][:10] + \"...\")\n"
      ]
    },
    {
      "cell_type": "code",
      "execution_count": 3,
      "id": "19ca8240",
      "metadata": {
        "id": "19ca8240"
      },
      "outputs": [],
      "source": [
        "\n",
        "from pyrogram import Client\n",
        "\n",
        "BOT_TOKEN = config[\"bot_token\"]\n",
        "API_ID = config[\"api_id\"]\n",
        "API_HASH = config[\"api_hash\"]\n",
        "\n",
        "app = Client(\"ScienceTeacherBot\", bot_token=BOT_TOKEN, api_id=API_ID, api_hash=API_HASH)"
      ]
    },
    {
      "cell_type": "code",
      "execution_count": 6,
      "id": "8762d610",
      "metadata": {
        "colab": {
          "base_uri": "https://localhost:8080/"
        },
        "id": "8762d610",
        "outputId": "414027ff-edd4-481b-ba26-ad30da8cb19a"
      },
      "outputs": [
        {
          "output_type": "stream",
          "name": "stdout",
          "text": [
            "--2025-07-16 08:39:33--  https://raw.githubusercontent.com/JavMasterD/ScienceTeacherBot/main/bot.py\n",
            "Resolving raw.githubusercontent.com (raw.githubusercontent.com)... 185.199.108.133, 185.199.109.133, 185.199.111.133, ...\n",
            "Connecting to raw.githubusercontent.com (raw.githubusercontent.com)|185.199.108.133|:443... connected.\n",
            "HTTP request sent, awaiting response... 200 OK\n",
            "Length: 6260 (6.1K) [text/plain]\n",
            "Saving to: ‘bot.py’\n",
            "\n",
            "\rbot.py                0%[                    ]       0  --.-KB/s               \rbot.py              100%[===================>]   6.11K  --.-KB/s    in 0s      \n",
            "\n",
            "2025-07-16 08:39:33 (54.9 MB/s) - ‘bot.py’ saved [6260/6260]\n",
            "\n",
            "--2025-07-16 08:39:33--  https://raw.githubusercontent.com/JavMasterD/ScienceTeacherBot/main/group_manager.py\n",
            "Resolving raw.githubusercontent.com (raw.githubusercontent.com)... 185.199.109.133, 185.199.108.133, 185.199.111.133, ...\n",
            "Connecting to raw.githubusercontent.com (raw.githubusercontent.com)|185.199.109.133|:443... connected.\n",
            "HTTP request sent, awaiting response... 200 OK\n",
            "Length: 1146 (1.1K) [text/plain]\n",
            "Saving to: ‘group_manager.py’\n",
            "\n",
            "group_manager.py    100%[===================>]   1.12K  --.-KB/s    in 0s      \n",
            "\n",
            "2025-07-16 08:39:33 (93.1 MB/s) - ‘group_manager.py’ saved [1146/1146]\n",
            "\n",
            "--2025-07-16 08:39:33--  https://raw.githubusercontent.com/JavMasterD/ScienceTeacherBot/main/champion_manager.py\n",
            "Resolving raw.githubusercontent.com (raw.githubusercontent.com)... 185.199.109.133, 185.199.110.133, 185.199.111.133, ...\n",
            "Connecting to raw.githubusercontent.com (raw.githubusercontent.com)|185.199.109.133|:443... connected.\n",
            "HTTP request sent, awaiting response... 200 OK\n",
            "Length: 1026 (1.0K) [text/plain]\n",
            "Saving to: ‘champion_manager.py’\n",
            "\n",
            "champion_manager.py 100%[===================>]   1.00K  --.-KB/s    in 0s      \n",
            "\n",
            "2025-07-16 08:39:33 (83.6 MB/s) - ‘champion_manager.py’ saved [1026/1026]\n",
            "\n",
            "--2025-07-16 08:39:33--  https://raw.githubusercontent.com/JavMasterD/ScienceTeacherBot/main/quiz_generator.py\n",
            "Resolving raw.githubusercontent.com (raw.githubusercontent.com)... 185.199.108.133, 185.199.109.133, 185.199.110.133, ...\n",
            "Connecting to raw.githubusercontent.com (raw.githubusercontent.com)|185.199.108.133|:443... connected.\n",
            "HTTP request sent, awaiting response... 200 OK\n",
            "Length: 562 [text/plain]\n",
            "Saving to: ‘quiz_generator.py’\n",
            "\n",
            "quiz_generator.py   100%[===================>]     562  --.-KB/s    in 0s      \n",
            "\n",
            "2025-07-16 08:39:34 (23.5 MB/s) - ‘quiz_generator.py’ saved [562/562]\n",
            "\n",
            "--2025-07-16 08:39:34--  https://raw.githubusercontent.com/JavMasterD/ScienceTeacherBot/main/quotes_manager.py\n",
            "Resolving raw.githubusercontent.com (raw.githubusercontent.com)... 185.199.108.133, 185.199.109.133, 185.199.110.133, ...\n",
            "Connecting to raw.githubusercontent.com (raw.githubusercontent.com)|185.199.108.133|:443... connected.\n",
            "HTTP request sent, awaiting response... 200 OK\n",
            "Length: 386 [text/plain]\n",
            "Saving to: ‘quotes_manager.py’\n",
            "\n",
            "quotes_manager.py   100%[===================>]     386  --.-KB/s    in 0s      \n",
            "\n",
            "2025-07-16 08:39:34 (7.27 MB/s) - ‘quotes_manager.py’ saved [386/386]\n",
            "\n",
            "--2025-07-16 08:39:34--  https://raw.githubusercontent.com/JavMasterD/ScienceTeacherBot/main/review_game.py\n",
            "Resolving raw.githubusercontent.com (raw.githubusercontent.com)... 185.199.109.133, 185.199.108.133, 185.199.111.133, ...\n",
            "Connecting to raw.githubusercontent.com (raw.githubusercontent.com)|185.199.109.133|:443... connected.\n",
            "HTTP request sent, awaiting response... 200 OK\n",
            "Length: 434 [text/plain]\n",
            "Saving to: ‘review_game.py’\n",
            "\n",
            "review_game.py      100%[===================>]     434  --.-KB/s    in 0s      \n",
            "\n",
            "2025-07-16 08:39:34 (8.94 MB/s) - ‘review_game.py’ saved [434/434]\n",
            "\n",
            "--2025-07-16 08:39:34--  https://raw.githubusercontent.com/JavMasterD/ScienceTeacherBot/main/weekly_quiz.py\n",
            "Resolving raw.githubusercontent.com (raw.githubusercontent.com)... 185.199.108.133, 185.199.109.133, 185.199.110.133, ...\n",
            "Connecting to raw.githubusercontent.com (raw.githubusercontent.com)|185.199.108.133|:443... connected.\n",
            "HTTP request sent, awaiting response... 200 OK\n",
            "Length: 1680 (1.6K) [text/plain]\n",
            "Saving to: ‘weekly_quiz.py’\n",
            "\n",
            "weekly_quiz.py      100%[===================>]   1.64K  --.-KB/s    in 0s      \n",
            "\n",
            "2025-07-16 08:39:34 (19.0 MB/s) - ‘weekly_quiz.py’ saved [1680/1680]\n",
            "\n",
            "✅ تم تحميل جميع ملفات البوت من GitHub\n"
          ]
        }
      ],
      "source": [
        "# ⬇️ تحميل bot.py وبقية الملفات من GitHub بصيغة raw\n",
        "!wget https://raw.githubusercontent.com/JavMasterD/ScienceTeacherBot/main/bot.py -O bot.py\n",
        "!wget https://raw.githubusercontent.com/JavMasterD/ScienceTeacherBot/main/group_manager.py -O group_manager.py\n",
        "!wget https://raw.githubusercontent.com/JavMasterD/ScienceTeacherBot/main/champion_manager.py -O champion_manager.py\n",
        "!wget https://raw.githubusercontent.com/JavMasterD/ScienceTeacherBot/main/quiz_generator.py -O quiz_generator.py\n",
        "!wget https://raw.githubusercontent.com/JavMasterD/ScienceTeacherBot/main/quotes_manager.py -O quotes_manager.py\n",
        "!wget https://raw.githubusercontent.com/JavMasterD/ScienceTeacherBot/main/review_game.py -O review_game.py\n",
        "!wget https://raw.githubusercontent.com/JavMasterD/ScienceTeacherBot/main/weekly_quiz.py -O weekly_quiz.py\n",
        "\n",
        "print(\"✅ تم تحميل جميع ملفات البوت من GitHub\")\n"
      ]
    },
    {
      "cell_type": "code",
      "execution_count": 7,
      "id": "b4d863fd",
      "metadata": {
        "colab": {
          "base_uri": "https://localhost:8080/"
        },
        "id": "b4d863fd",
        "outputId": "31a4104e-5f6f-43bf-fa48-72651280b57a"
      },
      "outputs": [
        {
          "output_type": "stream",
          "name": "stdout",
          "text": [
            "🤖 تم تشغيل البوت...\n"
          ]
        }
      ],
      "source": [
        "\n",
        "# ✅ بدء تشغيل البوت\n",
        "# تشغيل البوت\n",
        "!python3 bot.py\n"
      ]
    }
  ],
  "metadata": {
    "colab": {
      "provenance": []
    },
    "language_info": {
      "name": "python"
    },
    "kernelspec": {
      "name": "python3",
      "display_name": "Python 3"
    }
  },
  "nbformat": 4,
  "nbformat_minor": 5
}